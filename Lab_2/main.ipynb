{
 "cells": [
  {
   "cell_type": "markdown",
   "metadata": {},
   "source": [
    "# **Лабораторная работа 2**\n",
    "\n",
    "Для начала подключаем необходимые для дальнейшей работы модули. И их много."
   ]
  },
  {
   "cell_type": "code",
   "execution_count": 12,
   "metadata": {
    "colab": {},
    "colab_type": "code",
    "id": "J3aex11XG1R7"
   },
   "outputs": [],
   "source": [
    "import pandas\n",
    "import numpy as np\n",
    "from sklearn.metrics import precision_score, recall_score, accuracy_score\n",
    "from sklearn.model_selection import StratifiedKFold\n",
    "from sklearn.utils import check_random_state\n",
    "from sklearn import preprocessing\n",
    "from sklearn.model_selection import train_test_split\n",
    "from sklearn.linear_model import LogisticRegression\n",
    "from sklearn.neighbors import KNeighborsClassifier\n",
    "from sklearn.tree import DecisionTreeClassifier\n",
    "from sklearn.ensemble import RandomForestClassifier\n",
    "from sklearn.svm import SVC\n",
    "import warnings\n",
    "warnings.filterwarnings(\"ignore\")\n",
    "from collections import Counter"
   ]
  },
  {
   "cell_type": "markdown",
   "metadata": {},
   "source": [
    "Заготавливаем функцию, которая будет отвечать за обучение, тестирование, подсчёт точности и др."
   ]
  },
  {
   "cell_type": "code",
   "execution_count": 2,
   "metadata": {
    "colab": {},
    "colab_type": "code",
    "id": "Qv3dzwsKG1lo"
   },
   "outputs": [],
   "source": [
    "def DisplayMetrics(Method, X, Y, folds = 5, average = 'macro'):\n",
    "  kf = StratifiedKFold(n_splits = folds, random_state = 128, shuffle = True)\n",
    "  precision = np.zeros(folds)   \n",
    "  recall = np.zeros(folds)  \n",
    "  testAc = np.zeros(folds)\n",
    "  trainAc = np.zeros(folds)\n",
    "  for step, (trainI, valI) in enumerate(kf.split(X, Y)):\n",
    "    TrX, TrY = X.loc[trainI].to_numpy(), Y.loc[trainI].to_numpy()\n",
    "    ValX, ValY = X.loc[valI].to_numpy(), Y.loc[valI].to_numpy()\n",
    "    Method.fit(TrX, TrY)\n",
    "    PredY = Method.predict(ValX)\n",
    "    PredTrY = Method.predict(TrX)\n",
    "    precision[step] = precision_score(ValY, PredY, average = average)\n",
    "    recall[step] = recall_score(ValY, PredY, average = average)\n",
    "    trainAc[step] = accuracy_score(TrY, PredTrY)\n",
    "    testAc[step] = accuracy_score(ValY, PredY)    \n",
    "  print(\"precision:\", precision.mean())\n",
    "  print(\"recall:\", recall.mean())\n",
    "  print(\"train_accuracy:\", trainAc.mean())\n",
    "  print(\"test_accuracy:\", testAc.mean())"
   ]
  },
  {
   "cell_type": "markdown",
   "metadata": {},
   "source": [
    "## **Реализации из грязи и палок**\n",
    "\n",
    "Логистическая регрессия"
   ]
  },
  {
   "cell_type": "code",
   "execution_count": 3,
   "metadata": {
    "colab": {},
    "colab_type": "code",
    "id": "IYTVDoMsG7M2"
   },
   "outputs": [],
   "source": [
    "class LogReg():\n",
    "  def __init__(self, accuracy = 0.01, iters = 1000):\n",
    "    self.it = iters\n",
    "    self.ac = accuracy\n",
    "\n",
    "  def fit(self, X, y):\n",
    "    X = self.AddIntercept(X)\n",
    "    self.wei = np.zeros(X.shape[1])\n",
    "    for _ in range(self.it):\n",
    "      h = self.Sigmoid(np.dot(X, self.wei))\n",
    "      grad = np.dot(X.T, (h - y)) / y.size\n",
    "      self.wei -= self.ac * grad\n",
    "    pass\n",
    "\n",
    "  def predict(self, X):\n",
    "    X = self.AddIntercept(X)\n",
    "    return self.Sigmoid(np.dot(X, self.wei))\n",
    "\n",
    "  def Sigmoid(self, x):\n",
    "    return 1 / (1 + np.exp(-x))\n",
    "\n",
    "  def AddIntercept(self, X):\n",
    "    return np.concatenate((np.ones((X.shape[0], 1)), X), axis = 1)"
   ]
  },
  {
   "cell_type": "markdown",
   "metadata": {},
   "source": [
    "KNN"
   ]
  },
  {
   "cell_type": "code",
   "execution_count": 4,
   "metadata": {
    "colab": {},
    "colab_type": "code",
    "id": "0rAej0uVG7PW"
   },
   "outputs": [],
   "source": [
    "class KNN():\n",
    "  def __init__(self, neighbors = 5):\n",
    "    self.nei = neighbors\n",
    "    \n",
    "  def fit(self, X, y):\n",
    "    self.X = X\n",
    "    self.y = y.reshape((y.shape[0], 1))\n",
    "\n",
    "  def predict(self, X):\n",
    "    n = X.shape[0]\n",
    "    prediction = np.zeros((n, 1))\n",
    "    for i in range(n):\n",
    "      d = self.Dist(X[i])\n",
    "      sorted = self.y[np.argsort(d)].flatten()\n",
    "      if sorted[:self.nei].sum() > self.nei / 2:\n",
    "        prediction[i] = 1.0\n",
    "    return prediction\n",
    "\t\n",
    "  def Dist(self, p):\n",
    "    t = self.X - p\n",
    "    return np.sqrt((t ** 2).sum(1))"
   ]
  },
  {
   "cell_type": "markdown",
   "metadata": {},
   "source": [
    "Дерево решений"
   ]
  },
  {
   "cell_type": "code",
   "execution_count": 22,
   "metadata": {
    "colab": {},
    "colab_type": "code",
    "id": "xIwDhiJkGuUO"
   },
   "outputs": [],
   "source": [
    "class Node():\n",
    "  def __init__(self, predType):\n",
    "    self.predType = predType\n",
    "    self.iFeature = 0\n",
    "    self.border = 0\n",
    "    self.left = None\n",
    "    self.right = None\n",
    "\n",
    "class DecisionTree():\n",
    "  def __init__(self, mDepth = 1, rf = False):\n",
    "    self.mDepth = mDepth\n",
    "    self.rf = rf\n",
    "\n",
    "  def fit(self, X, y, maxFeatures = None):\n",
    "    self.types = len(set(y))\n",
    "    if not self.rf:\n",
    "      Features = X.shape[1]\n",
    "    else:\n",
    "      ind = np.random.choice(X.shape[0], X.shape[0])\n",
    "      X, y = X[tuple([ind])], y[tuple([ind])]\n",
    "      if maxFeatures is None:\n",
    "        Features = np.sqrt(X.shape[1]).astype(int)\n",
    "      else:\n",
    "        Features = maxFeatures\n",
    "    self.features = np.sort(np.random.choice(X.shape[1], Features, replace = False))\n",
    "    self.tree = self.UpdateTree(X, y)\n",
    "\n",
    "  def predict(self, X):\n",
    "    list = []\n",
    "    for inputs in X:\n",
    "      node = self.tree\n",
    "      while node.left:\n",
    "        if inputs[node.iFeature] < node.border:\n",
    "          node = node.left\n",
    "        else:\n",
    "          node = node.right\n",
    "      list.append(node.predType)\n",
    "    return list\n",
    "\n",
    "  def Split(self, X, y):\n",
    "    m = y.size\n",
    "    if m <= 1:\n",
    "      return None, None\n",
    "    parent = [np.sum(y == c) for c in range(self.types)]\n",
    "    bGini = 1.0 - sum((n / m) ** 2 for n in parent)\n",
    "    bIdx, bThr = None, None\n",
    "    for idx in self.features:\n",
    "      borders, types = zip(*sorted(zip(X[:, idx], y)))\n",
    "      left = [0] * self.types\n",
    "      right = parent.copy()\n",
    "      for i in range(1, m):\n",
    "        c = types[i - 1]\n",
    "        right[c] -= 1\n",
    "        left[c] += 1\n",
    "        giniLeft = 1.0 - sum((left[x] / i) ** 2 for x in range(self.types))\n",
    "        giniRight = 1.0 - sum((right[x] / (m - i)) ** 2 for x in range(self.types))\n",
    "        gini = (i * giniLeft + (m - i) * giniRight) / m\n",
    "        if borders[i] == borders[i - 1]:\n",
    "          continue\n",
    "        if gini < bGini:\n",
    "          bGini = gini\n",
    "          bIdx = idx\n",
    "          bThr = (borders[i] + borders[i - 1]) / 2\n",
    "    return bIdx, bThr\n",
    "\n",
    "  def UpdateTree(self, X, y, depth = 0):\n",
    "    sPerClass = [np.sum(y == i) for i in range(self.types)]\n",
    "    predType = np.argmax(sPerClass)\n",
    "    node = Node(predType = predType)\n",
    "    if depth < self.mDepth:\n",
    "      idx, thr = self.Split(X, y)\n",
    "      if idx is not None:\n",
    "        Lidx = X[:, idx] < thr\n",
    "        lx, ly = X[Lidx], y[Lidx]\n",
    "        rx, ry = X[~Lidx], y[~Lidx]\n",
    "        node.iFeature = idx\n",
    "        node.border = thr\n",
    "        node.left = self.UpdateTree(lx, ly, depth + 1)\n",
    "        node.right = self.UpdateTree(rx, ry, depth + 1)\n",
    "    return node"
   ]
  },
  {
   "cell_type": "markdown",
   "metadata": {},
   "source": [
    "Случайный лес"
   ]
  },
  {
   "cell_type": "code",
   "execution_count": 6,
   "metadata": {
    "colab": {},
    "colab_type": "code",
    "id": "QsqmHVrneYPI"
   },
   "outputs": [],
   "source": [
    "class RandomForest():\n",
    "    def __init__(self, mDepth=5, nEst=100, mFeatures=None):\n",
    "        self.mDepth = mDepth\n",
    "        self.mFeatures = mFeatures\n",
    "        self.nEst = nEst\n",
    "        self.forest = [None] * nEst\n",
    "\n",
    "    def fit(self, X, Y):\n",
    "        for i in range(self.nEst):\n",
    "            self.forest[i] = DecisionTree(self.mDepth, rf=True) \n",
    "            self.forest[i].Fit(X, Y)\n",
    "\n",
    "    def predict(self, X):\n",
    "        mFreq = np.zeros(X.shape[0])\n",
    "        preds = np.zeros((self.nEst, X.shape[0]))\n",
    "        for i in range(self.nEst):\n",
    "            preds[i] = self.forest[i].Predict(X)\n",
    "        for i in range(len(mFreq)):\n",
    "            mFreq[i] = Counter(preds[:, i]).mFreq(1)[0][0]\n",
    "        return mFreq.astype(int)"
   ]
  },
  {
   "cell_type": "markdown",
   "metadata": {
    "colab_type": "text",
    "id": "YHapjanMc1_1"
   },
   "source": [
    "# **Первый датасет - RGB**\n",
    "\n",
    "Подготавливаем данные для последующей работы"
   ]
  },
  {
   "cell_type": "code",
   "execution_count": 24,
   "metadata": {
    "colab": {},
    "colab_type": "code",
    "id": "JWdXyYN1c2mG"
   },
   "outputs": [],
   "source": [
    "RGB = pandas.read_csv(\"dataset1.csv\")\n",
    "needed = [\"R\", \"G\", \"B\"]\n",
    "y = RGB[\"Type\"].map({0 : 0, 1 : 1})\n",
    "X = pandas.get_dummies(RGB[needed])"
   ]
  },
  {
   "cell_type": "markdown",
   "metadata": {},
   "source": [
    "## **Реализации на sklearn**\n",
    "\n",
    "Логистическая регрессия"
   ]
  },
  {
   "cell_type": "code",
   "execution_count": 25,
   "metadata": {},
   "outputs": [
    {
     "name": "stdout",
     "output_type": "stream",
     "text": [
      "precision: 0.8637705964884009\n",
      "recall: 0.822665881213337\n",
      "train_accuracy: 0.9328375\n",
      "test_accuracy: 0.93285\n",
      "Wall time: 345 ms\n"
     ]
    }
   ],
   "source": [
    "%%time\n",
    "DisplayMetrics(LogisticRegression(), X, y)"
   ]
  },
  {
   "cell_type": "markdown",
   "metadata": {},
   "source": [
    "KNN"
   ]
  },
  {
   "cell_type": "code",
   "execution_count": 9,
   "metadata": {},
   "outputs": [
    {
     "name": "stdout",
     "output_type": "stream",
     "text": [
      "precision: 0.9827451699169805\n",
      "recall: 0.9833814651078961\n",
      "train_accuracy: 0.9960625000000001\n",
      "test_accuracy: 0.9924\n",
      "Wall time: 3.28 s\n"
     ]
    }
   ],
   "source": [
    "%%time\n",
    "DisplayMetrics(KNeighborsClassifier(n_neighbors=5), X, y) "
   ]
  },
  {
   "cell_type": "markdown",
   "metadata": {},
   "source": [
    "Дерево решений"
   ]
  },
  {
   "cell_type": "code",
   "execution_count": 21,
   "metadata": {},
   "outputs": [
    {
     "name": "stdout",
     "output_type": "stream",
     "text": [
      "precision: 1.0\n",
      "recall: 1.0\n",
      "train_accuracy: 1.0\n",
      "test_accuracy: 1.0\n",
      "Wall time: 91.3 ms\n"
     ]
    }
   ],
   "source": [
    "%%time\n",
    "DisplayMetrics(DecisionTreeClassifier(max_depth=5), X, y)"
   ]
  },
  {
   "cell_type": "markdown",
   "metadata": {},
   "source": [
    "Случайный лес"
   ]
  },
  {
   "cell_type": "code",
   "execution_count": 13,
   "metadata": {},
   "outputs": [
    {
     "name": "stdout",
     "output_type": "stream",
     "text": [
      "precision: 0.435675\n",
      "recall: 0.5\n",
      "train_accuracy: 0.87135\n",
      "test_accuracy: 0.87135\n",
      "Wall time: 1.32 s\n"
     ]
    }
   ],
   "source": [
    "%%time \n",
    "DisplayMetrics(RandomForestClassifier(n_estimators=50, max_depth=2), X, y) "
   ]
  },
  {
   "cell_type": "markdown",
   "metadata": {},
   "source": [
    "## **Реализации из грязи и палок**\n",
    "\n",
    "Логистическая регрессия"
   ]
  },
  {
   "cell_type": "code",
   "execution_count": 34,
   "metadata": {
    "colab": {
     "base_uri": "https://localhost:8080/",
     "height": 136
    },
    "colab_type": "code",
    "id": "4jWI1v-nc3pD",
    "outputId": "2477ac3d-0a27-4beb-f076-fc850abee43c"
   },
   "outputs": [
    {
     "name": "stdout",
     "output_type": "stream",
     "text": [
      "precision: 0.535696792948237 \n",
      "recall: 0.5001945525291829 \n",
      "\n",
      "train_accuracy: 0.8713750000000001 \n",
      "test_accuracy: 0.8714000000000001\n",
      "CPU times: user 4.07 s, sys: 2.88 s, total: 6.95 s\n",
      "Wall time: 3.54 s\n"
     ]
    }
   ],
   "source": [
    "%%time\n",
    "DisplayMetrics(LogReg(), X, y)"
   ]
  },
  {
   "cell_type": "markdown",
   "metadata": {},
   "source": [
    "KNN"
   ]
  },
  {
   "cell_type": "code",
   "execution_count": 9,
   "metadata": {
    "colab": {
     "base_uri": "https://localhost:8080/",
     "height": 136
    },
    "colab_type": "code",
    "id": "GtubAxMSc3wI",
    "outputId": "0f993056-2732-4665-aa34-39d1908dc12e"
   },
   "outputs": [
    {
     "name": "stdout",
     "output_type": "stream",
     "text": [
      "precision: 0.9821150044296946 \n",
      "recall: 0.9815726516822272 \n",
      "\n",
      "train_accuracy: 0.9966000000000002 \n",
      "test_accuracy: 0.99185\n",
      "CPU times: user 2min 52s, sys: 1.33 s, total: 2min 54s\n",
      "Wall time: 2min 54s\n"
     ]
    }
   ],
   "source": [
    "%%time\n",
    "DisplayMetrics(KNN(neighbors = 3), X, y)"
   ]
  },
  {
   "cell_type": "markdown",
   "metadata": {},
   "source": [
    "Дерево решений"
   ]
  },
  {
   "cell_type": "code",
   "execution_count": 37,
   "metadata": {
    "colab": {
     "base_uri": "https://localhost:8080/",
     "height": 136
    },
    "colab_type": "code",
    "id": "s9123HRNc33b",
    "outputId": "c6708697-50bb-4f23-d2ea-4d7ed0ed5ed7"
   },
   "outputs": [
    {
     "name": "stdout",
     "output_type": "stream",
     "text": [
      "precision: 1.0 \n",
      "recall: 1.0 \n",
      "\n",
      "train_accuracy: 1.0 \n",
      "test_accuracy: 1.0\n",
      "CPU times: user 5.18 s, sys: 7.03 ms, total: 5.19 s\n",
      "Wall time: 5.21 s\n"
     ]
    }
   ],
   "source": [
    "%%time\n",
    "DisplayMetrics(DecisionTree(mDepth = 4), X, y)"
   ]
  },
  {
   "cell_type": "markdown",
   "metadata": {},
   "source": [
    "Случайный лес"
   ]
  },
  {
   "cell_type": "code",
   "execution_count": 42,
   "metadata": {
    "colab": {
     "base_uri": "https://localhost:8080/",
     "height": 136
    },
    "colab_type": "code",
    "id": "UxtO6jywggeI",
    "outputId": "d88a2987-8d52-4b11-c050-1ca4505e687d"
   },
   "outputs": [
    {
     "name": "stdout",
     "output_type": "stream",
     "text": [
      "precision: 0.435675 \n",
      "recall: 0.5 \n",
      "\n",
      "train_accuracy: 0.87135 \n",
      "test_accuracy: 0.87135\n",
      "CPU times: user 4min 39s, sys: 78.7 ms, total: 4min 39s\n",
      "Wall time: 4min 40s\n"
     ]
    }
   ],
   "source": [
    "%%time\n",
    "DisplayMetrics(RandomForest(), X, y)"
   ]
  },
  {
   "cell_type": "markdown",
   "metadata": {
    "colab_type": "text",
    "id": "lSwMEAJgc4PV"
   },
   "source": [
    "# **Второй датасет - YouTube**\n",
    "\n",
    "Подготавливаем данные для последующей работы"
   ]
  },
  {
   "cell_type": "code",
   "execution_count": 15,
   "metadata": {
    "colab": {
     "base_uri": "https://localhost:8080/",
     "height": 204
    },
    "colab_type": "code",
    "id": "zsTeGrw0c4bz",
    "outputId": "8b27fb24-d7aa-4c48-949e-8235c72cb0e8"
   },
   "outputs": [],
   "source": [
    "youtube = pandas.read_csv(\"dataset2.csv\")\n",
    "needed = [\"views\", \"likes\", \"dislikes\", \"comment_count\"]\n",
    "yy = youtube[\"type\"].map({0 : 0, 1 : 1})\n",
    "XX = pandas.get_dummies(youtube[needed])"
   ]
  },
  {
   "cell_type": "markdown",
   "metadata": {
    "colab": {
     "base_uri": "https://localhost:8080/",
     "height": 34
    },
    "colab_type": "code",
    "id": "4gI3ZrNxcuwZ",
    "outputId": "7ceb1baf-d551-4127-e62c-16e6b21d224a"
   },
   "source": [
    "## **Реализации на sklearn**\n",
    "\n",
    "Логистическая регрессия"
   ]
  },
  {
   "cell_type": "code",
   "execution_count": 16,
   "metadata": {},
   "outputs": [
    {
     "name": "stdout",
     "output_type": "stream",
     "text": [
      "precision: 0.4500862084313975\n",
      "recall: 0.4997476030240396\n",
      "train_accuracy: 0.35265818533180177\n",
      "test_accuracy: 0.35256050770032943\n",
      "Wall time: 910 ms\n"
     ]
    }
   ],
   "source": [
    "%%time\n",
    "DisplayMetrics(LogisticRegression(), XX, yy)"
   ]
  },
  {
   "cell_type": "markdown",
   "metadata": {},
   "source": [
    "KNN"
   ]
  },
  {
   "cell_type": "code",
   "execution_count": 17,
   "metadata": {},
   "outputs": [
    {
     "name": "stdout",
     "output_type": "stream",
     "text": [
      "precision: 0.9995092718766067\n",
      "recall: 0.9996351444031477\n",
      "train_accuracy: 0.999822950723009\n",
      "test_accuracy: 0.9996092736451754\n",
      "Wall time: 7.17 s\n"
     ]
    }
   ],
   "source": [
    "%%time\n",
    "DisplayMetrics(KNeighborsClassifier(n_neighbors=5), XX, yy) "
   ]
  },
  {
   "cell_type": "markdown",
   "metadata": {},
   "source": [
    "Дерево решений"
   ]
  },
  {
   "cell_type": "code",
   "execution_count": 23,
   "metadata": {},
   "outputs": [
    {
     "name": "stdout",
     "output_type": "stream",
     "text": [
      "precision: 1.0\n",
      "recall: 1.0\n",
      "train_accuracy: 1.0\n",
      "test_accuracy: 1.0\n",
      "Wall time: 189 ms\n"
     ]
    }
   ],
   "source": [
    "%%time\n",
    "DisplayMetrics(DecisionTreeClassifier(max_depth=15), XX, yy) "
   ]
  },
  {
   "cell_type": "markdown",
   "metadata": {},
   "source": [
    "Случайный лес"
   ]
  },
  {
   "cell_type": "code",
   "execution_count": 19,
   "metadata": {},
   "outputs": [
    {
     "name": "stdout",
     "output_type": "stream",
     "text": [
      "precision: 0.9999811427493871\n",
      "recall: 0.9999653739612189\n",
      "train_accuracy: 0.9999938948075338\n",
      "test_accuracy: 0.99997557997558\n",
      "Wall time: 3.57 s\n"
     ]
    }
   ],
   "source": [
    "%%time \n",
    "DisplayMetrics(RandomForestClassifier(n_estimators=50, max_depth=2), XX, yy)"
   ]
  },
  {
   "cell_type": "markdown",
   "metadata": {},
   "source": [
    "## **Реализации из грязи и палок**\n",
    "\n",
    "Логистическая регрессия"
   ]
  },
  {
   "cell_type": "code",
   "execution_count": 17,
   "metadata": {
    "colab": {
     "base_uri": "https://localhost:8080/",
     "height": 136
    },
    "colab_type": "code",
    "id": "T8SZKqwLc4gO",
    "outputId": "290442a3-3e60-4dd5-b7f3-8d2c8897fe63"
   },
   "outputs": [
    {
     "name": "stdout",
     "output_type": "stream",
     "text": [
      "precision: 0.17628025086811264 \n",
      "recall: 0.5 \n",
      "\n",
      "train_accuracy: 0.3525605020659815 \n",
      "test_accuracy: 0.3525605017362253\n",
      "CPU times: user 9.05 s, sys: 5.74 s, total: 14.8 s\n",
      "Wall time: 7.51 s\n"
     ]
    }
   ],
   "source": [
    "%%time\n",
    "DisplayMetrics(LogReg(), XX, yy)"
   ]
  },
  {
   "cell_type": "markdown",
   "metadata": {},
   "source": [
    "KNN"
   ]
  },
  {
   "cell_type": "code",
   "execution_count": 18,
   "metadata": {
    "colab": {
     "base_uri": "https://localhost:8080/",
     "height": 136
    },
    "colab_type": "code",
    "id": "l-ijG7n7c4kF",
    "outputId": "b1166745-31c2-4fe6-dfcf-5c8138be595b"
   },
   "outputs": [
    {
     "name": "stdout",
     "output_type": "stream",
     "text": [
      "precision: 0.9994875544239743 \n",
      "recall: 0.9995501008737495 \n",
      "\n",
      "train_accuracy: 0.9998717924490995 \n",
      "test_accuracy: 0.9995604216681272\n",
      "CPU times: user 12min 59s, sys: 5.16 s, total: 13min 4s\n",
      "Wall time: 13min 5s\n"
     ]
    }
   ],
   "source": [
    "%%time\n",
    "DisplayMetrics(KNN(neighbors = 3), XX, yy)"
   ]
  },
  {
   "cell_type": "markdown",
   "metadata": {},
   "source": [
    "Дерево решений"
   ]
  },
  {
   "cell_type": "code",
   "execution_count": 41,
   "metadata": {
    "colab": {
     "base_uri": "https://localhost:8080/",
     "height": 136
    },
    "colab_type": "code",
    "id": "VA5G8mBtc4oE",
    "outputId": "b308e788-3aa0-4f06-e5af-eada57d01fd8"
   },
   "outputs": [
    {
     "name": "stdout",
     "output_type": "stream",
     "text": [
      "precision: 1.0 \n",
      "recall: 1.0 \n",
      "\n",
      "train_accuracy: 1.0 \n",
      "test_accuracy: 1.0\n",
      "CPU times: user 11.3 s, sys: 26 ms, total: 11.3 s\n",
      "Wall time: 11.3 s\n"
     ]
    }
   ],
   "source": [
    "%%time\n",
    "DisplayMetrics(DecisionTree(mDepth = 3), XX, yy)"
   ]
  },
  {
   "cell_type": "markdown",
   "metadata": {},
   "source": [
    "Случайный лес"
   ]
  },
  {
   "cell_type": "code",
   "execution_count": 43,
   "metadata": {
    "colab": {
     "base_uri": "https://localhost:8080/",
     "height": 136
    },
    "colab_type": "code",
    "id": "df_N9hlwc4mf",
    "outputId": "e13bcfd0-865b-4182-f87d-f8660e7189e5"
   },
   "outputs": [
    {
     "name": "stdout",
     "output_type": "stream",
     "text": [
      "precision: 0.9543573550853347 \n",
      "recall: 0.9429624748421712 \n",
      "\n",
      "train_accuracy: 0.9551026322734861 \n",
      "test_accuracy: 0.953308036585604\n",
      "CPU times: user 17min 25s, sys: 1.88 s, total: 17min 27s\n",
      "Wall time: 17min 28s\n"
     ]
    }
   ],
   "source": [
    "%%time\n",
    "DisplayMetrics(RandomForest(), XX, yy)"
   ]
  }
 ],
 "metadata": {
  "colab": {
   "collapsed_sections": [],
   "name": "Lab2_spizdil.ipynb",
   "provenance": []
  },
  "kernelspec": {
   "display_name": "Python 3",
   "language": "python",
   "name": "python3"
  },
  "language_info": {
   "codemirror_mode": {
    "name": "ipython",
    "version": 3
   },
   "file_extension": ".py",
   "mimetype": "text/x-python",
   "name": "python",
   "nbconvert_exporter": "python",
   "pygments_lexer": "ipython3",
   "version": "3.7.6"
  }
 },
 "nbformat": 4,
 "nbformat_minor": 1
}
